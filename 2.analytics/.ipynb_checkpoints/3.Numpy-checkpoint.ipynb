{
 "cells": [
  {
   "cell_type": "code",
   "execution_count": 1,
   "id": "d455ac71",
   "metadata": {},
   "outputs": [],
   "source": [
    "import numpy as np"
   ]
  },
  {
   "cell_type": "markdown",
   "id": "9b695053",
   "metadata": {},
   "source": [
    "- Агрегирование\n",
    "\n",
    "Агрегирование - вычисление неких сводных показателей"
   ]
  },
  {
   "cell_type": "code",
   "execution_count": 2,
   "id": "290cce90",
   "metadata": {},
   "outputs": [
    {
     "data": {
      "text/plain": [
       "array([0.40331956, 0.6868314 , 0.75923235, 0.41893276, 0.37386605,\n",
       "       0.35328567, 0.11057026, 0.12341458, 0.37239952, 0.91216621])"
      ]
     },
     "execution_count": 2,
     "metadata": {},
     "output_type": "execute_result"
    }
   ],
   "source": [
    "arr_1 = np.random.random(10)\n",
    "arr_1"
   ]
  },
  {
   "cell_type": "code",
   "execution_count": 3,
   "id": "cb16613c",
   "metadata": {},
   "outputs": [
    {
     "data": {
      "text/plain": [
       "4.514018363565075"
      ]
     },
     "execution_count": 3,
     "metadata": {},
     "output_type": "execute_result"
    }
   ],
   "source": [
    "# сумма\n",
    "# 1d-array\n",
    "np.sum(arr_1)"
   ]
  },
  {
   "cell_type": "code",
   "execution_count": null,
   "id": "298ab699",
   "metadata": {},
   "outputs": [],
   "source": []
  },
  {
   "cell_type": "code",
   "execution_count": 4,
   "id": "840ee102",
   "metadata": {},
   "outputs": [
    {
     "data": {
      "text/plain": [
       "4.514018363565075"
      ]
     },
     "execution_count": 4,
     "metadata": {},
     "output_type": "execute_result"
    }
   ],
   "source": [
    "# 2d-array\n",
    "np.sum(arr_1.reshape((2,5)))"
   ]
  },
  {
   "cell_type": "code",
   "execution_count": 5,
   "id": "6e66d512",
   "metadata": {},
   "outputs": [
    {
     "data": {
      "text/plain": [
       "0.11057026204504172"
      ]
     },
     "execution_count": 5,
     "metadata": {},
     "output_type": "execute_result"
    }
   ],
   "source": [
    "# минимум\n",
    "np.min(arr_1)"
   ]
  },
  {
   "cell_type": "code",
   "execution_count": 6,
   "id": "abacbb89",
   "metadata": {},
   "outputs": [
    {
     "data": {
      "text/plain": [
       "0.9121662087941111"
      ]
     },
     "execution_count": 6,
     "metadata": {},
     "output_type": "execute_result"
    }
   ],
   "source": [
    "# маскимум\n",
    "np.max(arr_1)"
   ]
  },
  {
   "cell_type": "code",
   "execution_count": 7,
   "id": "b21f4474",
   "metadata": {},
   "outputs": [
    {
     "data": {
      "text/plain": [
       "0.4514018363565075"
      ]
     },
     "execution_count": 7,
     "metadata": {},
     "output_type": "execute_result"
    }
   ],
   "source": [
    "# среднее арифмитическое значение\n",
    "np.mean(arr_1)"
   ]
  },
  {
   "cell_type": "markdown",
   "id": "8bc88561",
   "metadata": {},
   "source": []
  },
  {
   "cell_type": "markdown",
   "id": "dab95f0b",
   "metadata": {},
   "source": [
    "- Сравнение массивов"
   ]
  },
  {
   "cell_type": "code",
   "execution_count": 8,
   "id": "3bf352eb",
   "metadata": {},
   "outputs": [
    {
     "data": {
      "text/plain": [
       "array([0, 1, 2, 3, 4, 5, 6])"
      ]
     },
     "execution_count": 8,
     "metadata": {},
     "output_type": "execute_result"
    }
   ],
   "source": [
    "arr_2 = np.arange(7)\n",
    "arr_2"
   ]
  },
  {
   "cell_type": "code",
   "execution_count": 9,
   "id": "2ec7ad0b",
   "metadata": {},
   "outputs": [
    {
     "data": {
      "text/plain": [
       "array([ True,  True, False,  True,  True,  True,  True])"
      ]
     },
     "execution_count": 9,
     "metadata": {},
     "output_type": "execute_result"
    }
   ],
   "source": [
    "arr_2 != 2"
   ]
  },
  {
   "cell_type": "code",
   "execution_count": 10,
   "id": "2b52ef65",
   "metadata": {},
   "outputs": [
    {
     "data": {
      "text/plain": [
       "array([False, False,  True, False, False, False, False])"
      ]
     },
     "execution_count": 10,
     "metadata": {},
     "output_type": "execute_result"
    }
   ],
   "source": [
    "arr_2 == 2"
   ]
  },
  {
   "cell_type": "code",
   "execution_count": 11,
   "id": "4b38b7ea",
   "metadata": {},
   "outputs": [
    {
     "data": {
      "text/plain": [
       "array([False, False, False, False,  True,  True,  True])"
      ]
     },
     "execution_count": 11,
     "metadata": {},
     "output_type": "execute_result"
    }
   ],
   "source": [
    "arr_2 > 3"
   ]
  },
  {
   "cell_type": "code",
   "execution_count": 12,
   "id": "9bba1731",
   "metadata": {},
   "outputs": [
    {
     "data": {
      "text/plain": [
       "array([ True,  True,  True, False, False, False, False])"
      ]
     },
     "execution_count": 12,
     "metadata": {},
     "output_type": "execute_result"
    }
   ],
   "source": [
    "arr_2 < 3"
   ]
  },
  {
   "cell_type": "code",
   "execution_count": 13,
   "id": "4dce210a",
   "metadata": {},
   "outputs": [
    {
     "data": {
      "text/plain": [
       "array([[False, False],\n",
       "       [False, False],\n",
       "       [ True,  True],\n",
       "       [ True,  True],\n",
       "       [ True,  True]])"
      ]
     },
     "execution_count": 13,
     "metadata": {},
     "output_type": "execute_result"
    }
   ],
   "source": [
    "np.arange(10).reshape((5,2)) >= 4"
   ]
  },
  {
   "cell_type": "code",
   "execution_count": 14,
   "id": "1214fe31",
   "metadata": {},
   "outputs": [
    {
     "data": {
      "text/plain": [
       "True"
      ]
     },
     "execution_count": 14,
     "metadata": {},
     "output_type": "execute_result"
    }
   ],
   "source": [
    "# общее сравнение\n",
    "# имеется ли в массиве значения, отвечающие условию\n",
    "condition = arr_2 > 4\n",
    "np.any(condition)"
   ]
  },
  {
   "cell_type": "code",
   "execution_count": 15,
   "id": "9b99ab7b",
   "metadata": {},
   "outputs": [
    {
     "data": {
      "text/plain": [
       "False"
      ]
     },
     "execution_count": 15,
     "metadata": {},
     "output_type": "execute_result"
    }
   ],
   "source": [
    "# все ли значения отвечают условию\n",
    "np.all(arr_2 < 2)"
   ]
  },
  {
   "cell_type": "code",
   "execution_count": 17,
   "id": "95370393",
   "metadata": {},
   "outputs": [
    {
     "data": {
      "text/plain": [
       "array([[0, 1],\n",
       "       [2, 3],\n",
       "       [4, 5],\n",
       "       [6, 7],\n",
       "       [8, 9]])"
      ]
     },
     "execution_count": 17,
     "metadata": {},
     "output_type": "execute_result"
    }
   ],
   "source": [
    "arr_3 = np.arange(10).reshape((5,2))\n",
    "arr_3"
   ]
  },
  {
   "cell_type": "code",
   "execution_count": 18,
   "id": "9be76d0f",
   "metadata": {},
   "outputs": [
    {
     "data": {
      "text/plain": [
       "array([ True,  True])"
      ]
     },
     "execution_count": 18,
     "metadata": {},
     "output_type": "execute_result"
    }
   ],
   "source": [
    "np.any(arr_3 > 7, axis=0)"
   ]
  },
  {
   "cell_type": "code",
   "execution_count": 19,
   "id": "17ace71d",
   "metadata": {},
   "outputs": [
    {
     "data": {
      "text/plain": [
       "array([False, False, False, False,  True])"
      ]
     },
     "execution_count": 19,
     "metadata": {},
     "output_type": "execute_result"
    }
   ],
   "source": [
    "np.any(arr_3 > 7, axis=1)"
   ]
  },
  {
   "cell_type": "code",
   "execution_count": 20,
   "id": "f3054fb0",
   "metadata": {},
   "outputs": [
    {
     "data": {
      "text/plain": [
       "array([False, False])"
      ]
     },
     "execution_count": 20,
     "metadata": {},
     "output_type": "execute_result"
    }
   ],
   "source": [
    "np.all(arr_3 < 5, axis=0)"
   ]
  },
  {
   "cell_type": "code",
   "execution_count": null,
   "id": "6be78ae6",
   "metadata": {},
   "outputs": [],
   "source": []
  },
  {
   "cell_type": "markdown",
   "id": "9e8580b1",
   "metadata": {},
   "source": [
    "- маскирование"
   ]
  },
  {
   "cell_type": "code",
   "execution_count": 21,
   "id": "d0fb6964",
   "metadata": {},
   "outputs": [
    {
     "data": {
      "text/plain": [
       "array([2, 4, 4, 2, 7])"
      ]
     },
     "execution_count": 21,
     "metadata": {},
     "output_type": "execute_result"
    }
   ],
   "source": [
    "arr_4 = np.random.randint(10, size=5)\n",
    "arr_4"
   ]
  },
  {
   "cell_type": "code",
   "execution_count": 22,
   "id": "304b9746",
   "metadata": {},
   "outputs": [
    {
     "data": {
      "text/plain": [
       "array([ True,  True,  True,  True, False])"
      ]
     },
     "execution_count": 22,
     "metadata": {},
     "output_type": "execute_result"
    }
   ],
   "source": [
    "# маска - массив с булевыми значениями\n",
    "c = arr_4 < 6\n",
    "c"
   ]
  },
  {
   "cell_type": "code",
   "execution_count": 23,
   "id": "cd5495dd",
   "metadata": {},
   "outputs": [
    {
     "data": {
      "text/plain": [
       "array([2, 4, 4, 2])"
      ]
     },
     "execution_count": 23,
     "metadata": {},
     "output_type": "execute_result"
    }
   ],
   "source": [
    "# маскирование\n",
    "arr_4[c]"
   ]
  },
  {
   "cell_type": "code",
   "execution_count": 28,
   "id": "eaebcc01",
   "metadata": {},
   "outputs": [
    {
     "data": {
      "text/plain": [
       "array([7])"
      ]
     },
     "execution_count": 28,
     "metadata": {},
     "output_type": "execute_result"
    }
   ],
   "source": [
    "# Побитовые операторы & = and, | = or\n",
    "arr_4[(arr_4 > 5) & (arr_4 < 8)]"
   ]
  },
  {
   "cell_type": "code",
   "execution_count": 29,
   "id": "f54ec5a4",
   "metadata": {},
   "outputs": [
    {
     "data": {
      "text/plain": [
       "array([2, 4, 4, 2])"
      ]
     },
     "execution_count": 29,
     "metadata": {},
     "output_type": "execute_result"
    }
   ],
   "source": [
    "arr_4[arr_4 != 7]"
   ]
  },
  {
   "cell_type": "code",
   "execution_count": null,
   "id": "55ea4cfa",
   "metadata": {},
   "outputs": [],
   "source": []
  },
  {
   "cell_type": "markdown",
   "id": "8094535e",
   "metadata": {},
   "source": [
    "- прихотливая индексация (fancy indieces)"
   ]
  },
  {
   "cell_type": "code",
   "execution_count": 30,
   "id": "efec7981",
   "metadata": {},
   "outputs": [
    {
     "data": {
      "text/plain": [
       "array([10, 11, 12, 13, 14, 15, 16, 17, 18, 19])"
      ]
     },
     "execution_count": 30,
     "metadata": {},
     "output_type": "execute_result"
    }
   ],
   "source": [
    "arr_5 = np.arange(10, 20)\n",
    "arr_5"
   ]
  },
  {
   "cell_type": "code",
   "execution_count": 31,
   "id": "500cc892",
   "metadata": {},
   "outputs": [
    {
     "data": {
      "text/plain": [
       "array([13, 10, 15])"
      ]
     },
     "execution_count": 31,
     "metadata": {},
     "output_type": "execute_result"
    }
   ],
   "source": [
    "# с помощью массива списка\n",
    "arr_5[[3,0,5]]"
   ]
  },
  {
   "cell_type": "code",
   "execution_count": 32,
   "id": "bda0479d",
   "metadata": {},
   "outputs": [
    {
     "data": {
      "text/plain": [
       "array([13, 10, 15, 17])"
      ]
     },
     "execution_count": 32,
     "metadata": {},
     "output_type": "execute_result"
    }
   ],
   "source": [
    "# с помощью массива индексов\n",
    "arr_5[np.array([3,0,5,7])]"
   ]
  },
  {
   "cell_type": "code",
   "execution_count": 33,
   "id": "9dbace33",
   "metadata": {},
   "outputs": [
    {
     "data": {
      "text/plain": [
       "array([[13, 10, 11],\n",
       "       [11, 11, 15]])"
      ]
     },
     "execution_count": 33,
     "metadata": {},
     "output_type": "execute_result"
    }
   ],
   "source": [
    "# с помощью прихотливой индексации можно менять\n",
    "# форму результирующего массива\n",
    "fi = np.array(\n",
    "        [[3,0,1],\n",
    "        [1,1,5]]\n",
    ")\n",
    "arr_5[fi]"
   ]
  },
  {
   "cell_type": "code",
   "execution_count": null,
   "id": "83aba885",
   "metadata": {},
   "outputs": [],
   "source": []
  }
 ],
 "metadata": {
  "kernelspec": {
   "display_name": "Python 3",
   "language": "python",
   "name": "python3"
  },
  "language_info": {
   "codemirror_mode": {
    "name": "ipython",
    "version": 3
   },
   "file_extension": ".py",
   "mimetype": "text/x-python",
   "name": "python",
   "nbconvert_exporter": "python",
   "pygments_lexer": "ipython3",
   "version": "3.8.8"
  }
 },
 "nbformat": 4,
 "nbformat_minor": 5
}
